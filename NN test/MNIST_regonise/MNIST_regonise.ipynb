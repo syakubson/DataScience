{
  "nbformat": 4,
  "nbformat_minor": 0,
  "metadata": {
    "colab": {
      "provenance": [],
      "gpuType": "T4",
      "authorship_tag": "ABX9TyPgrqOHNqV8ASYcU5b3fb/H"
    },
    "kernelspec": {
      "name": "python3",
      "display_name": "Python 3"
    },
    "language_info": {
      "name": "python"
    },
    "accelerator": "GPU",
    "widgets": {
      "application/vnd.jupyter.widget-state+json": {
        "f656731866a24d6cb4cfa9641cab19bc": {
          "model_module": "@jupyter-widgets/controls",
          "model_name": "HBoxModel",
          "model_module_version": "1.5.0",
          "state": {
            "_dom_classes": [],
            "_model_module": "@jupyter-widgets/controls",
            "_model_module_version": "1.5.0",
            "_model_name": "HBoxModel",
            "_view_count": null,
            "_view_module": "@jupyter-widgets/controls",
            "_view_module_version": "1.5.0",
            "_view_name": "HBoxView",
            "box_style": "",
            "children": [
              "IPY_MODEL_0929841b3d8e4b348bfdb293091a0355",
              "IPY_MODEL_3d5c208c73eb44a8aeac4be1e1336dcd",
              "IPY_MODEL_1ad925f6f62846f6901ee311db995381"
            ],
            "layout": "IPY_MODEL_e6b5de37e8ca47709c79f10cf753acf4"
          }
        },
        "0929841b3d8e4b348bfdb293091a0355": {
          "model_module": "@jupyter-widgets/controls",
          "model_name": "HTMLModel",
          "model_module_version": "1.5.0",
          "state": {
            "_dom_classes": [],
            "_model_module": "@jupyter-widgets/controls",
            "_model_module_version": "1.5.0",
            "_model_name": "HTMLModel",
            "_view_count": null,
            "_view_module": "@jupyter-widgets/controls",
            "_view_module_version": "1.5.0",
            "_view_name": "HTMLView",
            "description": "",
            "description_tooltip": null,
            "layout": "IPY_MODEL_22bb45986c594c6393252ea5c3b9d434",
            "placeholder": "​",
            "style": "IPY_MODEL_d6042ab665b643b1819eb4bf455ac144",
            "value": "100%"
          }
        },
        "3d5c208c73eb44a8aeac4be1e1336dcd": {
          "model_module": "@jupyter-widgets/controls",
          "model_name": "FloatProgressModel",
          "model_module_version": "1.5.0",
          "state": {
            "_dom_classes": [],
            "_model_module": "@jupyter-widgets/controls",
            "_model_module_version": "1.5.0",
            "_model_name": "FloatProgressModel",
            "_view_count": null,
            "_view_module": "@jupyter-widgets/controls",
            "_view_module_version": "1.5.0",
            "_view_name": "ProgressView",
            "bar_style": "success",
            "description": "",
            "description_tooltip": null,
            "layout": "IPY_MODEL_d214a0cd5b784b58abba63535c62dd57",
            "max": 30,
            "min": 0,
            "orientation": "horizontal",
            "style": "IPY_MODEL_e7a5efcf8aee41d38f78fe64c31b396e",
            "value": 30
          }
        },
        "1ad925f6f62846f6901ee311db995381": {
          "model_module": "@jupyter-widgets/controls",
          "model_name": "HTMLModel",
          "model_module_version": "1.5.0",
          "state": {
            "_dom_classes": [],
            "_model_module": "@jupyter-widgets/controls",
            "_model_module_version": "1.5.0",
            "_model_name": "HTMLModel",
            "_view_count": null,
            "_view_module": "@jupyter-widgets/controls",
            "_view_module_version": "1.5.0",
            "_view_name": "HTMLView",
            "description": "",
            "description_tooltip": null,
            "layout": "IPY_MODEL_e2d1feb2f0d34a20a3070df6393928db",
            "placeholder": "​",
            "style": "IPY_MODEL_d1e4da82a45745a29902d4b2749f3a91",
            "value": " 30/30 [09:58&lt;00:00, 19.99s/it]"
          }
        },
        "e6b5de37e8ca47709c79f10cf753acf4": {
          "model_module": "@jupyter-widgets/base",
          "model_name": "LayoutModel",
          "model_module_version": "1.2.0",
          "state": {
            "_model_module": "@jupyter-widgets/base",
            "_model_module_version": "1.2.0",
            "_model_name": "LayoutModel",
            "_view_count": null,
            "_view_module": "@jupyter-widgets/base",
            "_view_module_version": "1.2.0",
            "_view_name": "LayoutView",
            "align_content": null,
            "align_items": null,
            "align_self": null,
            "border": null,
            "bottom": null,
            "display": null,
            "flex": null,
            "flex_flow": null,
            "grid_area": null,
            "grid_auto_columns": null,
            "grid_auto_flow": null,
            "grid_auto_rows": null,
            "grid_column": null,
            "grid_gap": null,
            "grid_row": null,
            "grid_template_areas": null,
            "grid_template_columns": null,
            "grid_template_rows": null,
            "height": null,
            "justify_content": null,
            "justify_items": null,
            "left": null,
            "margin": null,
            "max_height": null,
            "max_width": null,
            "min_height": null,
            "min_width": null,
            "object_fit": null,
            "object_position": null,
            "order": null,
            "overflow": null,
            "overflow_x": null,
            "overflow_y": null,
            "padding": null,
            "right": null,
            "top": null,
            "visibility": null,
            "width": null
          }
        },
        "22bb45986c594c6393252ea5c3b9d434": {
          "model_module": "@jupyter-widgets/base",
          "model_name": "LayoutModel",
          "model_module_version": "1.2.0",
          "state": {
            "_model_module": "@jupyter-widgets/base",
            "_model_module_version": "1.2.0",
            "_model_name": "LayoutModel",
            "_view_count": null,
            "_view_module": "@jupyter-widgets/base",
            "_view_module_version": "1.2.0",
            "_view_name": "LayoutView",
            "align_content": null,
            "align_items": null,
            "align_self": null,
            "border": null,
            "bottom": null,
            "display": null,
            "flex": null,
            "flex_flow": null,
            "grid_area": null,
            "grid_auto_columns": null,
            "grid_auto_flow": null,
            "grid_auto_rows": null,
            "grid_column": null,
            "grid_gap": null,
            "grid_row": null,
            "grid_template_areas": null,
            "grid_template_columns": null,
            "grid_template_rows": null,
            "height": null,
            "justify_content": null,
            "justify_items": null,
            "left": null,
            "margin": null,
            "max_height": null,
            "max_width": null,
            "min_height": null,
            "min_width": null,
            "object_fit": null,
            "object_position": null,
            "order": null,
            "overflow": null,
            "overflow_x": null,
            "overflow_y": null,
            "padding": null,
            "right": null,
            "top": null,
            "visibility": null,
            "width": null
          }
        },
        "d6042ab665b643b1819eb4bf455ac144": {
          "model_module": "@jupyter-widgets/controls",
          "model_name": "DescriptionStyleModel",
          "model_module_version": "1.5.0",
          "state": {
            "_model_module": "@jupyter-widgets/controls",
            "_model_module_version": "1.5.0",
            "_model_name": "DescriptionStyleModel",
            "_view_count": null,
            "_view_module": "@jupyter-widgets/base",
            "_view_module_version": "1.2.0",
            "_view_name": "StyleView",
            "description_width": ""
          }
        },
        "d214a0cd5b784b58abba63535c62dd57": {
          "model_module": "@jupyter-widgets/base",
          "model_name": "LayoutModel",
          "model_module_version": "1.2.0",
          "state": {
            "_model_module": "@jupyter-widgets/base",
            "_model_module_version": "1.2.0",
            "_model_name": "LayoutModel",
            "_view_count": null,
            "_view_module": "@jupyter-widgets/base",
            "_view_module_version": "1.2.0",
            "_view_name": "LayoutView",
            "align_content": null,
            "align_items": null,
            "align_self": null,
            "border": null,
            "bottom": null,
            "display": null,
            "flex": null,
            "flex_flow": null,
            "grid_area": null,
            "grid_auto_columns": null,
            "grid_auto_flow": null,
            "grid_auto_rows": null,
            "grid_column": null,
            "grid_gap": null,
            "grid_row": null,
            "grid_template_areas": null,
            "grid_template_columns": null,
            "grid_template_rows": null,
            "height": null,
            "justify_content": null,
            "justify_items": null,
            "left": null,
            "margin": null,
            "max_height": null,
            "max_width": null,
            "min_height": null,
            "min_width": null,
            "object_fit": null,
            "object_position": null,
            "order": null,
            "overflow": null,
            "overflow_x": null,
            "overflow_y": null,
            "padding": null,
            "right": null,
            "top": null,
            "visibility": null,
            "width": null
          }
        },
        "e7a5efcf8aee41d38f78fe64c31b396e": {
          "model_module": "@jupyter-widgets/controls",
          "model_name": "ProgressStyleModel",
          "model_module_version": "1.5.0",
          "state": {
            "_model_module": "@jupyter-widgets/controls",
            "_model_module_version": "1.5.0",
            "_model_name": "ProgressStyleModel",
            "_view_count": null,
            "_view_module": "@jupyter-widgets/base",
            "_view_module_version": "1.2.0",
            "_view_name": "StyleView",
            "bar_color": null,
            "description_width": ""
          }
        },
        "e2d1feb2f0d34a20a3070df6393928db": {
          "model_module": "@jupyter-widgets/base",
          "model_name": "LayoutModel",
          "model_module_version": "1.2.0",
          "state": {
            "_model_module": "@jupyter-widgets/base",
            "_model_module_version": "1.2.0",
            "_model_name": "LayoutModel",
            "_view_count": null,
            "_view_module": "@jupyter-widgets/base",
            "_view_module_version": "1.2.0",
            "_view_name": "LayoutView",
            "align_content": null,
            "align_items": null,
            "align_self": null,
            "border": null,
            "bottom": null,
            "display": null,
            "flex": null,
            "flex_flow": null,
            "grid_area": null,
            "grid_auto_columns": null,
            "grid_auto_flow": null,
            "grid_auto_rows": null,
            "grid_column": null,
            "grid_gap": null,
            "grid_row": null,
            "grid_template_areas": null,
            "grid_template_columns": null,
            "grid_template_rows": null,
            "height": null,
            "justify_content": null,
            "justify_items": null,
            "left": null,
            "margin": null,
            "max_height": null,
            "max_width": null,
            "min_height": null,
            "min_width": null,
            "object_fit": null,
            "object_position": null,
            "order": null,
            "overflow": null,
            "overflow_x": null,
            "overflow_y": null,
            "padding": null,
            "right": null,
            "top": null,
            "visibility": null,
            "width": null
          }
        },
        "d1e4da82a45745a29902d4b2749f3a91": {
          "model_module": "@jupyter-widgets/controls",
          "model_name": "DescriptionStyleModel",
          "model_module_version": "1.5.0",
          "state": {
            "_model_module": "@jupyter-widgets/controls",
            "_model_module_version": "1.5.0",
            "_model_name": "DescriptionStyleModel",
            "_view_count": null,
            "_view_module": "@jupyter-widgets/base",
            "_view_module_version": "1.2.0",
            "_view_name": "StyleView",
            "description_width": ""
          }
        }
      }
    }
  },
  "cells": [
    {
      "cell_type": "markdown",
      "source": [
        "https://www.kaggle.com/competitions/digit-recognizer/data\n",
        "\n",
        "Соревнование по распознаванию MNIST датасета"
      ],
      "metadata": {
        "id": "7N_iqYmnwINA"
      }
    },
    {
      "cell_type": "code",
      "source": [
        "# Распаковка архива с датасетом\n",
        "!unzip \"./digit-recognizer.zip\""
      ],
      "metadata": {
        "colab": {
          "base_uri": "https://localhost:8080/"
        },
        "id": "3Ad0UFP_wb6B",
        "outputId": "f2002719-4d29-4e34-c236-fdfdd740c7d0"
      },
      "execution_count": 7,
      "outputs": [
        {
          "output_type": "stream",
          "name": "stdout",
          "text": [
            "Archive:  ./digit-recognizer.zip\n",
            "  inflating: sample_submission.csv   \n",
            "  inflating: test.csv                \n",
            "  inflating: train.csv               \n"
          ]
        }
      ]
    },
    {
      "cell_type": "code",
      "source": [
        "!rm \"./digit-recognizer.zip\""
      ],
      "metadata": {
        "id": "2r0Sxwm_xnPr"
      },
      "execution_count": null,
      "outputs": []
    },
    {
      "cell_type": "code",
      "source": [
        "!pip install -q pytorch_lightning"
      ],
      "metadata": {
        "id": "L1MHE2EjynIM"
      },
      "execution_count": null,
      "outputs": []
    },
    {
      "cell_type": "code",
      "source": [
        "import torch\n",
        "import torch.nn.functional as F\n",
        "from torch import nn, optim\n",
        "from torch.utils.data.sampler import SubsetRandomSampler\n",
        "from torchvision import transforms, models\n",
        "import matplotlib.pyplot as plt\n",
        "import pytorch_lightning as pl\n",
        "\n",
        "import pandas as pd\n",
        "import numpy as np\n",
        "\n",
        "import os\n",
        "\n",
        "# Дополнительные импорты\n",
        "from tqdm.autonotebook import tqdm\n",
        "from sklearn.metrics import classification_report\n",
        "import warnings\n",
        "\n",
        "# Настройка генератора случайных числе\n",
        "SEED = 42\n",
        "pl.seed_everything(SEED)\n",
        "# Игнорировать варнинги\n",
        "warnings.filterwarnings(\"ignore\")\n",
        "\n",
        "# Проверяем доступность CUDA и выбираем устройство для работы\n",
        "DEVICE = \"cuda\" if torch.cuda.is_available() else \"cpu\"\n",
        "print(DEVICE)"
      ],
      "metadata": {
        "colab": {
          "base_uri": "https://localhost:8080/"
        },
        "id": "Omi1R7wqtUYI",
        "outputId": "4e63db98-2e45-4624-aeae-3e0b5a2f46c0"
      },
      "execution_count": 69,
      "outputs": [
        {
          "output_type": "stream",
          "name": "stderr",
          "text": [
            "INFO:lightning_fabric.utilities.seed:Seed set to 42\n"
          ]
        },
        {
          "output_type": "stream",
          "name": "stdout",
          "text": [
            "cuda\n"
          ]
        }
      ]
    },
    {
      "cell_type": "markdown",
      "source": [
        "## Работа с данными"
      ],
      "metadata": {
        "id": "QrtpjWvW-vsb"
      }
    },
    {
      "cell_type": "code",
      "source": [
        "# Подгружаем датасет и смотрим его формат\n",
        "dataset = pd.read_csv('./train.csv')\n",
        "print(dataset)"
      ],
      "metadata": {
        "colab": {
          "base_uri": "https://localhost:8080/"
        },
        "id": "QBhJGsm72QSZ",
        "outputId": "35fd6703-fb84-41c8-cc6b-57e920c2d233"
      },
      "execution_count": 19,
      "outputs": [
        {
          "output_type": "stream",
          "name": "stdout",
          "text": [
            "       label  pixel0  pixel1  pixel2  pixel3  pixel4  pixel5  pixel6  pixel7  \\\n",
            "0          1       0       0       0       0       0       0       0       0   \n",
            "1          0       0       0       0       0       0       0       0       0   \n",
            "2          1       0       0       0       0       0       0       0       0   \n",
            "3          4       0       0       0       0       0       0       0       0   \n",
            "4          0       0       0       0       0       0       0       0       0   \n",
            "...      ...     ...     ...     ...     ...     ...     ...     ...     ...   \n",
            "41995      0       0       0       0       0       0       0       0       0   \n",
            "41996      1       0       0       0       0       0       0       0       0   \n",
            "41997      7       0       0       0       0       0       0       0       0   \n",
            "41998      6       0       0       0       0       0       0       0       0   \n",
            "41999      9       0       0       0       0       0       0       0       0   \n",
            "\n",
            "       pixel8  ...  pixel774  pixel775  pixel776  pixel777  pixel778  \\\n",
            "0           0  ...         0         0         0         0         0   \n",
            "1           0  ...         0         0         0         0         0   \n",
            "2           0  ...         0         0         0         0         0   \n",
            "3           0  ...         0         0         0         0         0   \n",
            "4           0  ...         0         0         0         0         0   \n",
            "...       ...  ...       ...       ...       ...       ...       ...   \n",
            "41995       0  ...         0         0         0         0         0   \n",
            "41996       0  ...         0         0         0         0         0   \n",
            "41997       0  ...         0         0         0         0         0   \n",
            "41998       0  ...         0         0         0         0         0   \n",
            "41999       0  ...         0         0         0         0         0   \n",
            "\n",
            "       pixel779  pixel780  pixel781  pixel782  pixel783  \n",
            "0             0         0         0         0         0  \n",
            "1             0         0         0         0         0  \n",
            "2             0         0         0         0         0  \n",
            "3             0         0         0         0         0  \n",
            "4             0         0         0         0         0  \n",
            "...         ...       ...       ...       ...       ...  \n",
            "41995         0         0         0         0         0  \n",
            "41996         0         0         0         0         0  \n",
            "41997         0         0         0         0         0  \n",
            "41998         0         0         0         0         0  \n",
            "41999         0         0         0         0         0  \n",
            "\n",
            "[42000 rows x 785 columns]\n"
          ]
        }
      ]
    },
    {
      "cell_type": "code",
      "source": [
        "# Подгрузка данных\n",
        "class MNIST_Dataset(torch.utils.data.Dataset):\n",
        "\n",
        "  def __init__(self,\n",
        "               data,\n",
        "               transform=None,  # Трансформация данных на входе\n",
        "               ):\n",
        "\n",
        "    super().__init__()\n",
        "\n",
        "    self.data = data\n",
        "    self.transform = transform\n",
        "\n",
        "  def __len__(self):\n",
        "      ''' Возвращает длинну данных'''\n",
        "      return len(self.data)\n",
        "\n",
        "  def __getitem__(self, index):\n",
        "      ''' Читает строку из csv файла. Преобразовываем строку в 28x28 и получаем label, что это'''\n",
        "\n",
        "      item = self.data.iloc[index]\n",
        "\n",
        "      image = item[1:].values.astype(np.uint8).reshape((28, 28))\n",
        "      label = item[0]\n",
        "\n",
        "      if self.transform is not None:\n",
        "          image = self.transform(image)\n",
        "\n",
        "      return image, label"
      ],
      "metadata": {
        "id": "Aoova8Miy_jc"
      },
      "execution_count": 43,
      "outputs": []
    },
    {
      "cell_type": "code",
      "source": [
        "BATCH_SIZE = 100\n",
        "VALID_SIZE = .2\n",
        "\n",
        "\n",
        "transform_train = transforms.Compose([\n",
        "    transforms.ToPILImage(),                        # Преобразовываем в PIL формат RGB\n",
        "    transforms.ToTensor(),                          # Преобразовываем в тензор\n",
        "    transforms.Normalize(mean=(0.5,), std=(0.5,))   # Нормализация\n",
        "])\n",
        "\n",
        "transform_valid = transforms.Compose([\n",
        "    transforms.ToPILImage(),\n",
        "    transforms.ToTensor(),\n",
        "    transforms.Normalize(mean=(0.5,), std=(0.5,))\n",
        "])"
      ],
      "metadata": {
        "id": "uKG6uSL002DD"
      },
      "execution_count": 220,
      "outputs": []
    },
    {
      "cell_type": "code",
      "source": [
        "# Создаём объекты для train/valid\n",
        "train_data = MNIST_Dataset(dataset, transform=transform_train)\n",
        "valid_data = MNIST_Dataset(dataset, transform=transform_valid)\n",
        "\n",
        "# Перемешиваем данные для получения различных индексов для обучения\n",
        "len_train = len(train_data)                                 # Можно брать любой train/valid, они пока что хранят одинаковые данные\n",
        "indices = list(range(len_train))\n",
        "np.random.shuffle(indices)                                  # Перемешиваем данные\n",
        "split = int(VALID_SIZE * len_train)                         # Получаем индекс, от и до которого делим выборку\n",
        "train_idx, valid_idx = indices[split:], indices[:split]\n",
        "\n",
        "train_sampler = SubsetRandomSampler(train_idx)\n",
        "valid_sampler = SubsetRandomSampler(valid_idx)\n",
        "\n",
        "# Создаём загрузчики разными, индексами для загрузки данных\n",
        "train_loader = torch.utils.data.DataLoader(train_data, batch_size=BATCH_SIZE, sampler=train_sampler)\n",
        "valid_loader = torch.utils.data.DataLoader(valid_data, batch_size=BATCH_SIZE, sampler=valid_sampler)\n",
        "\n",
        "print(f\"Length train: {len(train_idx)}\")\n",
        "print(f\"Length valid: {len(valid_idx)}\")\n",
        "\n",
        "print(f\"Train 10: {train_idx[:10]}\")\n",
        "print(f\"Valid 10: {valid_idx[:10]}\")"
      ],
      "metadata": {
        "colab": {
          "base_uri": "https://localhost:8080/"
        },
        "id": "AEmz6rKy2gam",
        "outputId": "b7e07918-84d7-4fb8-a75e-21fa9ccd627f"
      },
      "execution_count": 221,
      "outputs": [
        {
          "output_type": "stream",
          "name": "stdout",
          "text": [
            "Length train: 33600\n",
            "Length valid: 8400\n",
            "Train 10: [20516, 39070, 2755, 1004, 748, 6401, 10752, 37288, 21374, 24141]\n",
            "Valid 10: [32820, 36682, 6414, 5780, 18462, 21125, 21008, 8355, 13016, 16639]\n"
          ]
        }
      ]
    },
    {
      "cell_type": "code",
      "source": [
        "# Посмотрим на данные\n",
        "fig, axis = plt.subplots(1, 15, figsize=(20, 10))\n",
        "images, labels = next(iter(train_loader))\n",
        "\n",
        "for i, ax in enumerate(axis.flat):\n",
        "      image, label = images[i], labels[i]\n",
        "\n",
        "      ax.imshow(image.view(28, 28), cmap='binary')\n",
        "      ax.set(title = f\"{label}\")"
      ],
      "metadata": {
        "colab": {
          "base_uri": "https://localhost:8080/",
          "height": 170
        },
        "id": "jV8560249fse",
        "outputId": "d0df54fe-d256-43be-9518-87439505bb62"
      },
      "execution_count": 204,
      "outputs": [
        {
          "output_type": "display_data",
          "data": {
            "text/plain": [
              "<Figure size 2000x1000 with 15 Axes>"
            ],
            "image/png": "[encoded data removed]"
          },
          "metadata": {}
        }
      ]
    },
    {
      "cell_type": "markdown",
      "source": [
        "## Нейросетка"
      ],
      "metadata": {
        "id": "-Fyup6Az-iBm"
      }
    },
    {
      "cell_type": "code",
      "source": [
        "class my_MNIST_NN(nn.Module):\n",
        "\n",
        "  def __init__(self):\n",
        "    '''Инициализация неросетки'''\n",
        "\n",
        "    super().__init__() # Получаем доступ к методам родительского класса\n",
        "\n",
        "    self.layer1 = nn.Sequential(\n",
        "\n",
        "        nn.Conv2d(in_channels = 1,\n",
        "                  out_channels = 32,\n",
        "                  kernel_size=3,\n",
        "                  stride=1,\n",
        "                  padding=1,\n",
        "                  padding_mode='replicate'),\n",
        "\n",
        "        nn.ReLU(),\n",
        "        nn.BatchNorm2d(32),\n",
        "\n",
        "        nn.Conv2d(in_channels = 32,\n",
        "                  out_channels = 32,\n",
        "                  kernel_size=3,\n",
        "                  stride=2,\n",
        "                  padding=1,\n",
        "                  padding_mode='replicate'),\n",
        "\n",
        "        nn.ReLU(),\n",
        "        nn.BatchNorm2d(32),\n",
        "\n",
        "        nn.MaxPool2d(2, 2),\n",
        "        nn.Dropout(0.25)\n",
        "    )\n",
        "\n",
        "\n",
        "    self.layer2 = nn.Sequential(\n",
        "\n",
        "        nn.Conv2d(in_channels = 32,\n",
        "                  out_channels = 64,\n",
        "                  kernel_size=3,\n",
        "                  stride=1,\n",
        "                  padding=1,\n",
        "                  padding_mode='replicate'),\n",
        "\n",
        "        nn.ReLU(),\n",
        "        nn.BatchNorm2d(64),\n",
        "\n",
        "        nn.Conv2d(in_channels = 64,\n",
        "                  out_channels = 64,\n",
        "                  kernel_size=3,\n",
        "                  stride=2,\n",
        "                  padding=1,\n",
        "                  padding_mode='replicate'),\n",
        "\n",
        "        nn.ReLU(),\n",
        "        nn.BatchNorm2d(64),\n",
        "\n",
        "        nn.MaxPool2d(2, 2),\n",
        "        nn.Dropout(0.25)\n",
        "    )\n",
        "\n",
        "\n",
        "    self.layer3 = nn.Sequential(\n",
        "\n",
        "        nn.Conv2d(in_channels = 64,\n",
        "                  out_channels = 128,\n",
        "                  kernel_size=3,\n",
        "                  stride=1,\n",
        "                  padding=1,\n",
        "                  padding_mode='replicate'),\n",
        "\n",
        "        nn.ReLU(),\n",
        "        nn.BatchNorm2d(128),\n",
        "\n",
        "        nn.MaxPool2d(2, 2),\n",
        "        nn.Dropout(0.25)\n",
        "    )\n",
        "\n",
        "    self.final_layer = nn.Sequential(\n",
        "          nn.Linear(128, 10)\n",
        "    )\n",
        "\n",
        "\n",
        "  def forward(self, x):\n",
        "    '''Слои сетки'''\n",
        "\n",
        "    x = self.layer1(x)\n",
        "    x = self.layer2(x)\n",
        "    x = self.layer3(x)\n",
        "\n",
        "    x = x.view(x.size(0), -1) # Выравниваем в одномерный тензор\n",
        "\n",
        "    x = self.final_layer(x)\n",
        "\n",
        "    return x\n",
        "\n",
        "mnist_model = my_MNIST_NN()\n",
        "print(mnist_model)"
      ],
      "metadata": {
        "colab": {
          "base_uri": "https://localhost:8080/"
        },
        "id": "V7bn5RWA-ykT",
        "outputId": "43a1f32c-3396-4352-886f-d59382f90960"
      },
      "execution_count": 211,
      "outputs": [
        {
          "output_type": "stream",
          "name": "stdout",
          "text": [
            "my_MNIST_NN(\n",
            "  (layer1): Sequential(\n",
            "    (0): Conv2d(1, 32, kernel_size=(3, 3), stride=(1, 1), padding=(1, 1), padding_mode=replicate)\n",
            "    (1): ReLU()\n",
            "    (2): BatchNorm2d(32, eps=1e-05, momentum=0.1, affine=True, track_running_stats=True)\n",
            "    (3): Conv2d(32, 32, kernel_size=(3, 3), stride=(2, 2), padding=(1, 1), padding_mode=replicate)\n",
            "    (4): ReLU()\n",
            "    (5): BatchNorm2d(32, eps=1e-05, momentum=0.1, affine=True, track_running_stats=True)\n",
            "    (6): MaxPool2d(kernel_size=2, stride=2, padding=0, dilation=1, ceil_mode=False)\n",
            "    (7): Dropout(p=0.25, inplace=False)\n",
            "  )\n",
            "  (layer2): Sequential(\n",
            "    (0): Conv2d(32, 64, kernel_size=(3, 3), stride=(1, 1), padding=(1, 1), padding_mode=replicate)\n",
            "    (1): ReLU()\n",
            "    (2): BatchNorm2d(64, eps=1e-05, momentum=0.1, affine=True, track_running_stats=True)\n",
            "    (3): Conv2d(64, 64, kernel_size=(3, 3), stride=(2, 2), padding=(1, 1), padding_mode=replicate)\n",
            "    (4): ReLU()\n",
            "    (5): BatchNorm2d(64, eps=1e-05, momentum=0.1, affine=True, track_running_stats=True)\n",
            "    (6): MaxPool2d(kernel_size=2, stride=2, padding=0, dilation=1, ceil_mode=False)\n",
            "    (7): Dropout(p=0.25, inplace=False)\n",
            "  )\n",
            "  (layer3): Sequential(\n",
            "    (0): Conv2d(64, 128, kernel_size=(3, 3), stride=(1, 1), padding=(1, 1), padding_mode=replicate)\n",
            "    (1): ReLU()\n",
            "    (2): BatchNorm2d(128, eps=1e-05, momentum=0.1, affine=True, track_running_stats=True)\n",
            "    (3): MaxPool2d(kernel_size=2, stride=2, padding=0, dilation=1, ceil_mode=False)\n",
            "    (4): Dropout(p=0.25, inplace=False)\n",
            "  )\n",
            "  (final_layer): Sequential(\n",
            "    (0): Linear(in_features=128, out_features=10, bias=True)\n",
            "  )\n",
            ")\n"
          ]
        }
      ]
    },
    {
      "cell_type": "code",
      "source": [
        "LEARNING_RATE = 0.042\n",
        "\n",
        "# Функция потерь\n",
        "loss_function = nn.CrossEntropyLoss()\n",
        "\n",
        "# Оптимизатор\n",
        "optimizer = optim.SGD(mnist_model.parameters(), lr=LEARNING_RATE)"
      ],
      "metadata": {
        "id": "64F610A4Ddxz"
      },
      "execution_count": 222,
      "outputs": []
    },
    {
      "cell_type": "code",
      "source": [
        "# Поместить модель и метрику на GPU\n",
        "my_nn_model = mnist_model.to(DEVICE)\n",
        "\n",
        "# Сколько эпох обучения\n",
        "EPOCHS = 30\n",
        "\n",
        "# Лосс, к которому стремимся\n",
        "valid_loss_min = np.Inf\n",
        "\n",
        "# Лосс обучения на каждый шаг\n",
        "train_losses = []\n",
        "# Лосс валидации на каждый шаг\n",
        "valid_losses = []\n",
        "# Точность\n",
        "total_accuracy = []\n",
        "\n",
        "# Длинны датасетов\n",
        "train_len = len(train_loader)\n",
        "valid_len = len(valid_loader)\n",
        "\n",
        "print(f\"Length train: {len(train_idx)}\")\n",
        "print(f\"Length valid: {len(valid_idx)}\")\n",
        "print(f\"BATCH: {BATCH_SIZE}\" )\n",
        "print(f\"Train len: {train_len}\" )\n",
        "print(f\"Valid len: {valid_len}\" )\n",
        "\n",
        "# Начинаем обучение для каждой эпохи\n",
        "# tqdm - отслеживает выполнение\n",
        "for epoch in tqdm(range(EPOCHS)):\n",
        "\n",
        "  running_loss = 0\n",
        "\n",
        "  # Переводим модель в режим обучения\n",
        "  my_nn_model.train()\n",
        "\n",
        "  # Для каждой части датасета\n",
        "  # Один шаг обучения\n",
        "  for images, labels in train_loader:\n",
        "\n",
        "    images, labels = images.to(DEVICE), labels.to(DEVICE)\n",
        "\n",
        "    # ОБНУЛЯЕМ градиенты у оптимизатора\n",
        "    optimizer.zero_grad()\n",
        "\n",
        "    # Пропускам данные через модель\n",
        "    outputs = my_nn_model(images)\n",
        "\n",
        "    # Считаем лосс\n",
        "    loss = loss_function(outputs, labels)\n",
        "\n",
        "    # Делаем шаг в обратном направлении\n",
        "    loss.backward()\n",
        "\n",
        "    # Собираем лоссы\n",
        "    running_loss += loss.item()\n",
        "\n",
        "    # Делаем шаг оптимизатора\n",
        "    optimizer.step()\n",
        "\n",
        "  else:\n",
        "\n",
        "    valid_loss = 0\n",
        "    accuracy = 0\n",
        "\n",
        "    # Режим инференса или валидации, тестирования\n",
        "    my_nn_model.eval()\n",
        "    # Выключаем градиенты у валидации (они тут не нужны) Обязательно добавить\n",
        "    with torch.no_grad():\n",
        "\n",
        "      # Один шаг валидации\n",
        "      for images, labels in valid_loader:\n",
        "\n",
        "        images, labels = images.to(DEVICE), labels.to(DEVICE)\n",
        "\n",
        "        # Пропускаем данные, выравниваем в одномерный тензор, считаем лоссы\n",
        "        outputs = my_nn_model(images)\n",
        "\n",
        "        _, top_class = outputs.topk(1, dim=1)\n",
        "\n",
        "        # Проверяем, что верно угадали класс\n",
        "        equals = top_class == labels.view(*top_class.shape)\n",
        "\n",
        "        # Собираем лоссы\n",
        "        valid_loss += loss_function(outputs, labels)\n",
        "        accuracy += torch.mean(equals.type(torch.FloatTensor))\n",
        "\n",
        "    train_losses.append(running_loss/train_len)\n",
        "    valid_losses.append(valid_loss/valid_len)\n",
        "    total_accuracy.append(accuracy/valid_len)\n",
        "\n",
        "    network_learned = valid_loss < valid_loss_min\n",
        "\n",
        "    print(f\"Epoch: {epoch}/{EPOCHS}:\",\n",
        "          f\"Train loss: {running_loss/train_len}\",\n",
        "          f\"Valid loss: {valid_loss/valid_len}\",\n",
        "          f\"Accuracy: {accuracy/valid_len}\")\n",
        "\n",
        "    if network_learned:\n",
        "        valid_loss_min = valid_loss\n",
        "        torch.save(my_nn_model.state_dict(), 'model_mtl_mnist.pt')\n",
        "        print('Save model')"
      ],
      "metadata": {
        "colab": {
          "base_uri": "https://localhost:8080/",
          "height": 778,
          "referenced_widgets": [
            "f656731866a24d6cb4cfa9641cab19bc",
            "0929841b3d8e4b348bfdb293091a0355",
            "3d5c208c73eb44a8aeac4be1e1336dcd",
            "1ad925f6f62846f6901ee311db995381",
            "e6b5de37e8ca47709c79f10cf753acf4",
            "22bb45986c594c6393252ea5c3b9d434",
            "d6042ab665b643b1819eb4bf455ac144",
            "d214a0cd5b784b58abba63535c62dd57",
            "e7a5efcf8aee41d38f78fe64c31b396e",
            "e2d1feb2f0d34a20a3070df6393928db",
            "d1e4da82a45745a29902d4b2749f3a91"
          ]
        },
        "id": "VV-nUrUfD-eI",
        "outputId": "f25e5261-9f04-4795-87ab-ca8094ee7e20"
      },
      "execution_count": 223,
      "outputs": [
        {
          "output_type": "stream",
          "name": "stdout",
          "text": [
            "Length train: 33600\n",
            "Length valid: 8400\n",
            "BATCH: 100\n",
            "Train len: 336\n",
            "Valid len: 84\n"
          ]
        },
        {
          "output_type": "display_data",
          "data": {
            "text/plain": [
              "  0%|          | 0/30 [00:00<?, ?it/s]"
            ],
            "application/vnd.jupyter.widget-view+json": {
              "version_major": 2,
              "version_minor": 0,
              "model_id": "f656731866a24d6cb4cfa9641cab19bc"
            }
          },
          "metadata": {}
        },
        {
          "output_type": "stream",
          "name": "stdout",
          "text": [
            "Epoch: 0/30: Train loss: 0.0418230336986848 Valid loss: 0.01952504925429821 Accuracy: 0.9938095808029175\n",
            "Save model\n",
            "Epoch: 1/30: Train loss: 0.03584618248922717 Valid loss: 0.01796313375234604 Accuracy: 0.9949998259544373\n",
            "Save model\n",
            "Epoch: 2/30: Train loss: 0.03382983635951643 Valid loss: 0.017997782677412033 Accuracy: 0.9941667914390564\n",
            "Epoch: 3/30: Train loss: 0.02926413323265955 Valid loss: 0.01795002818107605 Accuracy: 0.9947620630264282\n",
            "Save model\n",
            "Epoch: 4/30: Train loss: 0.027305722647898142 Valid loss: 0.017194584012031555 Accuracy: 0.9947620630264282\n",
            "Save model\n",
            "Epoch: 5/30: Train loss: 0.02327868047965846 Valid loss: 0.01708175241947174 Accuracy: 0.9947619438171387\n",
            "Save model\n",
            "Epoch: 6/30: Train loss: 0.02408334210572537 Valid loss: 0.017416654154658318 Accuracy: 0.994404673576355\n",
            "Epoch: 7/30: Train loss: 0.024310443863041223 Valid loss: 0.016598820686340332 Accuracy: 0.9948810338973999\n",
            "Save model\n",
            "Epoch: 8/30: Train loss: 0.02283117388461029 Valid loss: 0.017161427065730095 Accuracy: 0.995238184928894\n",
            "Epoch: 9/30: Train loss: 0.020935154636044034 Valid loss: 0.016520729288458824 Accuracy: 0.9944048523902893\n",
            "Save model\n",
            "Epoch: 10/30: Train loss: 0.019103198792955873 Valid loss: 0.016763774678111076 Accuracy: 0.9946430921554565\n",
            "Epoch: 11/30: Train loss: 0.019000253054227437 Valid loss: 0.016760358586907387 Accuracy: 0.9947623014450073\n",
            "Epoch: 12/30: Train loss: 0.017703608557418364 Valid loss: 0.017043117433786392 Accuracy: 0.9947620630264282\n",
            "Epoch: 13/30: Train loss: 0.01679773180893833 Valid loss: 0.016975875943899155 Accuracy: 0.9951189160346985\n",
            "Epoch: 14/30: Train loss: 0.016032459180288634 Valid loss: 0.01679922454059124 Accuracy: 0.995476245880127\n",
            "Epoch: 15/30: Train loss: 0.01536246619140175 Valid loss: 0.01677475869655609 Accuracy: 0.9955952167510986\n",
            "Epoch: 16/30: Train loss: 0.015233201021536453 Valid loss: 0.01737501099705696 Accuracy: 0.9947620630264282\n",
            "Epoch: 17/30: Train loss: 0.015537118932982031 Valid loss: 0.01710948720574379 Accuracy: 0.995238184928894\n",
            "Epoch: 18/30: Train loss: 0.014392760440473683 Valid loss: 0.017607584595680237 Accuracy: 0.9952378869056702\n",
            "Epoch: 19/30: Train loss: 0.014058236824331246 Valid loss: 0.017578603699803352 Accuracy: 0.9947618842124939\n",
            "Epoch: 20/30: Train loss: 0.012867374594168809 Valid loss: 0.01662372425198555 Accuracy: 0.995238184928894\n",
            "Epoch: 21/30: Train loss: 0.012666530335385081 Valid loss: 0.016945337876677513 Accuracy: 0.9953571557998657\n",
            "Epoch: 22/30: Train loss: 0.01254056583106181 Valid loss: 0.0175800658762455 Accuracy: 0.9951190948486328\n",
            "Epoch: 23/30: Train loss: 0.013028304143257887 Valid loss: 0.017830369994044304 Accuracy: 0.9947620630264282\n",
            "Epoch: 24/30: Train loss: 0.010770581166244006 Valid loss: 0.017987709492444992 Accuracy: 0.9948811531066895\n",
            "Epoch: 25/30: Train loss: 0.011883130916647219 Valid loss: 0.017881955951452255 Accuracy: 0.994404673576355\n",
            "Epoch: 26/30: Train loss: 0.011633649841488 Valid loss: 0.017690090462565422 Accuracy: 0.9951192736625671\n",
            "Epoch: 27/30: Train loss: 0.010608175326740906 Valid loss: 0.017736366018652916 Accuracy: 0.9946429133415222\n",
            "Epoch: 28/30: Train loss: 0.010885023241046708 Valid loss: 0.018615275621414185 Accuracy: 0.9948809742927551\n",
            "Epoch: 29/30: Train loss: 0.010535412127042253 Valid loss: 0.0186112392693758 Accuracy: 0.9947618842124939\n"
          ]
        }
      ]
    },
    {
      "cell_type": "markdown",
      "source": [
        "Первая версия сетки, очень плохая точность. Попробуем убрать softmax в конце\n",
        "![image.png](data:image/png;base64,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)"
      ],
      "metadata": {
        "id": "Exj2bezQOza1"
      }
    },
    {
      "cell_type": "markdown",
      "source": [
        "Снова очень плохая точность попробуем добавить batch нормализацию"
      ],
      "metadata": {
        "id": "qEg4Fk77QA_Q"
      }
    },
    {
      "cell_type": "markdown",
      "source": [
        "Проблема с точностью скрывалась за тем, что неверно собирал её. Поменял, стало лучше, но всё равно как будто в 10 раз меньше, попробую увеличить на порядок точность обучения"
      ],
      "metadata": {
        "id": "FBvmFFJOSqYG"
      }
    },
    {
      "cell_type": "markdown",
      "source": [
        "Проблема оказалась где-то в задании выборки, когда поменял значение на 0.15 вместо 0.2 стало всё ок. Видимо, нужно больше данных для обучения"
      ],
      "metadata": {
        "id": "1-MRb2shV8ix"
      }
    },
    {
      "cell_type": "markdown",
      "source": [
        "Добавим MaxPool и DropOut для лучшего обучения"
      ],
      "metadata": {
        "id": "NX9carGtgrmD"
      }
    },
    {
      "cell_type": "markdown",
      "source": [
        "## Проверка работоспособности сетки"
      ],
      "metadata": {
        "id": "ILjoKojcqqRY"
      }
    },
    {
      "cell_type": "code",
      "source": [
        "# Зададим классы\n",
        "classes = ['0', '1', '2', '3', '4',\n",
        "           '5', '6', '7', '8', '9']\n",
        "\n",
        "test_loss = 0.0\n",
        "class_correct = list(0. for i in range(10))\n",
        "class_total = list(0. for i in range(10))\n",
        "\n",
        "my_nn_model.eval()\n",
        "\n",
        "for data, target in valid_loader:\n",
        "\n",
        "    data, target = data.cuda(), target.cuda()\n",
        "\n",
        "    output = my_nn_model(data)\n",
        "\n",
        "    loss = loss_function(output, target)\n",
        "\n",
        "    test_loss += loss.item()*data.size(0)\n",
        "\n",
        "    _, pred = torch.max(output, 1)\n",
        "\n",
        "    correct_tensor = pred.eq(target.data.view_as(pred))\n",
        "\n",
        "    correct = np.squeeze(correct_tensor.numpy()) if not \"cuda\" else np.squeeze(correct_tensor.cpu().numpy())\n",
        "    for i in range(BATCH_SIZE):\n",
        "        label = target.data[i]\n",
        "        class_correct[label] += correct[i].item()\n",
        "        class_total[label] += 1\n",
        "\n",
        "test_loss = test_loss/len(valid_loader.dataset)\n",
        "print('Test Loss: {:.6f}\\n'.format(test_loss))\n",
        "\n",
        "for i in range(10):\n",
        "    if class_total[i] > 0:\n",
        "        print('Test Accuracy of %5s: %0.4f%% (%2d/%2d)' % (\n",
        "            classes[i], class_correct[i] / class_total[i],\n",
        "            np.sum(class_correct[i]), np.sum(class_total[i])))\n",
        "    else:\n",
        "        print('Test Accuracy of %5s: N/A (no training examples)' % (classes[i]))\n",
        "\n",
        "print('\\nTest Accuracy (Overall): %2.2f%% (%2d/%2d)' % (\n",
        "    100. * np.sum(class_correct) / np.sum(class_total),\n",
        "    np.sum(class_correct), np.sum(class_total)))"
      ],
      "metadata": {
        "colab": {
          "base_uri": "https://localhost:8080/"
        },
        "id": "dEPboyksqQJ9",
        "outputId": "60ac27a7-d8fc-4dd1-e8a3-e1850bbc003c"
      },
      "execution_count": 243,
      "outputs": [
        {
          "output_type": "stream",
          "name": "stdout",
          "text": [
            "Test Loss: 0.003304\n",
            "\n",
            "Test Accuracy of     0: 0.9940% (831/836)\n",
            "Test Accuracy of     1: 0.9967% (916/919)\n",
            "Test Accuracy of     2: 0.9949% (780/784)\n",
            "Test Accuracy of     3: 0.9909% (874/882)\n",
            "Test Accuracy of     4: 0.9938% (797/802)\n",
            "Test Accuracy of     5: 0.9960% (741/744)\n",
            "Test Accuracy of     6: 0.9940% (833/838)\n",
            "Test Accuracy of     7: 0.9967% (897/900)\n",
            "Test Accuracy of     8: 0.9940% (829/834)\n",
            "Test Accuracy of     9: 0.9930% (855/861)\n",
            "\n",
            "Test Accuracy (Overall): 99.44% (8353/8400)\n"
          ]
        }
      ]
    }
  ]
}